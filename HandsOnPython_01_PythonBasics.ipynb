{
  "nbformat": 4,
  "nbformat_minor": 0,
  "metadata": {
    "kernelspec": {
      "display_name": "Python 3",
      "language": "python",
      "name": "python3"
    },
    "language_info": {
      "codemirror_mode": {
        "name": "ipython",
        "version": 3
      },
      "file_extension": ".py",
      "mimetype": "text/x-python",
      "name": "python",
      "nbconvert_exporter": "python",
      "pygments_lexer": "ipython3",
      "version": "3.7.0"
    },
    "colab": {
      "provenance": [],
      "collapsed_sections": [],
      "include_colab_link": true
    }
  },
  "cells": [
    {
      "cell_type": "markdown",
      "metadata": {
        "id": "view-in-github",
        "colab_type": "text"
      },
      "source": [
        "<a href=\"https://colab.research.google.com/github/LuisDoc/Applied-Data-Analytics/blob/main/HandsOnPython_01_PythonBasics.ipynb\" target=\"_parent\"><img src=\"https://colab.research.google.com/assets/colab-badge.svg\" alt=\"Open In Colab\"/></a>"
      ]
    },
    {
      "cell_type": "markdown",
      "metadata": {
        "id": "vRXh0rSJm1WK"
      },
      "source": [
        "# Python Basics\n",
        "Dieses Notebook zeigt die wichtigsten Basics zum Nutzen von jupyter Notebooks und Python."
      ]
    },
    {
      "cell_type": "markdown",
      "metadata": {
        "id": "ZbNGkVNlm1WS"
      },
      "source": [
        "## Zellen\n",
        "Das Notebook besteht aus verschiedenen Zellen. Eine Zelle kann durch Drücken von Shift + Enter (oder in Google Colab auch durch Drücken des Play-Knopfes) ausgeführt werden. Zellen können Infotexte enthalten (Text bzw. Markdown), oder \n",
        "Code. "
      ]
    },
    {
      "cell_type": "markdown",
      "metadata": {
        "id": "xZBmhrrmm1WU"
      },
      "source": [
        "## Die Print Funktion"
      ]
    },
    {
      "cell_type": "code",
      "metadata": {
        "id": "guuufMZEm1WV",
        "colab": {
          "base_uri": "https://localhost:8080/"
        },
        "outputId": "d5e33c2e-53dc-420b-85ea-12ea7ba46d48"
      },
      "source": [
        "a=0\n",
        "b=3\n",
        "c=\"In\"\n",
        "d=\"lerne ich Datenanalyse mit Python!\"\n",
        "e=\"Komma nix\"\n",
        "\n",
        "#Wie müssen Sie die print Funktion füllen, damit der Satz ausgegeben wird \"In 0 Komma nix lerne ich Datenanalyse mit Python!\"?\n",
        "\n",
        "print(c, a, e, d)\n"
      ],
      "execution_count": null,
      "outputs": [
        {
          "output_type": "stream",
          "name": "stdout",
          "text": [
            "In 0 Komma nix lerne ich Datenanalyse mit Python!\n"
          ]
        }
      ]
    },
    {
      "cell_type": "markdown",
      "metadata": {
        "id": "1FbGrxrDm1Wb"
      },
      "source": [
        "## Kommentare in Python\n",
        "- Welche beiden Möglichkeiten für Kommentare in Python kennen Sie?\n",
        "- Probieren Sie beide aus."
      ]
    },
    {
      "cell_type": "code",
      "metadata": {
        "id": "Tu7LQV1Nm1Wd",
        "colab": {
          "base_uri": "https://localhost:8080/",
          "height": 36
        },
        "outputId": "92bdc335-70ab-4989-f84a-a16ea19d37ec"
      },
      "source": [
        "#Möglichkeit 1\n",
        "\n",
        "\"\"\" \n",
        "Hier kommt auskommentierter Bereich\n",
        "der über mehrere Zeilen sich zieht\n",
        "\"\"\"\n"
      ],
      "execution_count": null,
      "outputs": [
        {
          "output_type": "execute_result",
          "data": {
            "text/plain": [
              "'\\nHier kommt auskommentierter Bereich\\nder über mehrere Zeilen sich zieht\\n'"
            ],
            "application/vnd.google.colaboratory.intrinsic+json": {
              "type": "string"
            }
          },
          "metadata": {},
          "execution_count": 6
        }
      ]
    },
    {
      "cell_type": "markdown",
      "metadata": {
        "id": "DKhX0z7Bm1Wf"
      },
      "source": [
        "\n",
        "## Operatoren und if/else Abfragen\n",
        "- Definieren Sie sich eine Variable x, der Sie zunächst den Wert 10 zuweisen.\n",
        "- Formulieren Sie nun eine Abfrage: Falls x größer oder gleich 10 ist, soll die Variable y als x hoch x berechnet werden... \n",
        "- und anschließend mit der print Funktion ausgegeben werden.\n",
        "- Setzen Sie x oben in der Zelle nun nicht mehr auf 10, sondern auf 10000.\n",
        "- Setzen Sie x oben in der Zelle nun nicht mehr auf 10000, sondern auf 0."
      ]
    },
    {
      "cell_type": "code",
      "metadata": {
        "scrolled": true,
        "id": "3mvnNnvKm1Wh"
      },
      "source": [
        "x = 0\n",
        "if x >= 10:\n",
        "     y = pow(x,x);\n",
        "     print(y)\n",
        "\n",
        " "
      ],
      "execution_count": null,
      "outputs": []
    },
    {
      "cell_type": "markdown",
      "metadata": {
        "id": "hDyX27okm1Wj"
      },
      "source": [
        "## if/else Abfragen mit logischen Operatoren\n",
        "- Definieren Sie sich zwei Variablen completed und valid, die zunächst beide den Wert False haben.\n",
        "- Falls completed und valid beide True sind, soll folgender Text ausgegeben werden: \"Die Berechnung war erfolgreich.\"\n",
        "- Ansonsten soll ausgegeben werden: \"Die Berechnung war leider nicht erfolgreich.\"\n",
        "- Zudem soll bei nicht erfolgreicher Berechnung der Wert von completed und valid ausgegeben werden.\n",
        "- Überprüfen Sie Ihre Implementierung durch Variieren der Werte von valid und complete"
      ]
    },
    {
      "cell_type": "code",
      "metadata": {
        "id": "oisT0xoTm1Wl",
        "colab": {
          "base_uri": "https://localhost:8080/"
        },
        "outputId": "e8a4f8a6-daa0-45a2-afd4-f25c423693b5"
      },
      "source": [
        "completed = True\n",
        "valid = True\n",
        "\n",
        "if  completed == True & valid == True:\n",
        "  print(\"Die Berechnung war erfolgreich\")\n",
        "else:\n",
        "  print(\"Die Berechnung war leider nicht erfolgreich\")\n",
        "  print(\"Completed: \" , completed, \"\\nValid: \", valid)\n",
        "\n",
        "\n"
      ],
      "execution_count": null,
      "outputs": [
        {
          "output_type": "stream",
          "name": "stdout",
          "text": [
            "Die Berechnung war erfolgreich\n"
          ]
        }
      ]
    },
    {
      "cell_type": "markdown",
      "metadata": {
        "id": "sj3n53dBm1Wn"
      },
      "source": [
        "## Definieren von Funktionen\n",
        "- Schreiben Sie eine Funktion, die den Betrag der Zahl x ausgibt\n",
        "- Definieren Sie eine Variable z. Wenden Sie Ihre Funktion auf z an. Variieren Sie den Wert von z."
      ]
    },
    {
      "cell_type": "code",
      "metadata": {
        "id": "2qkcM7qim1Wo",
        "colab": {
          "base_uri": "https://localhost:8080/"
        },
        "outputId": "aa32871f-16fc-4a86-e42f-b3cee6a7f2c6"
      },
      "source": [
        "z = -100\n",
        "\n",
        "def betrag(v):\n",
        "  if v < 0:\n",
        "    return v *(-1)\n",
        "  else:\n",
        "    return v;\n",
        "\n",
        "print(betrag(z))"
      ],
      "execution_count": null,
      "outputs": [
        {
          "output_type": "stream",
          "name": "stdout",
          "text": [
            "100\n"
          ]
        }
      ]
    },
    {
      "cell_type": "markdown",
      "metadata": {
        "id": "gEdU91nzm1Wq"
      },
      "source": [
        "## Einbinden von Bibliotheken\n",
        "- Bibliotheken (oder auch Pakete, Module genannt) wie pandas, numpy, matplotlib bieten Funktionalitäten zur Datenauswertung und -visualisierung. \n",
        "- Um diese nutzen zu können, müssen sie über den import Befehl eingebunden werden. \n",
        "- Häufig wird dabei direkt ein Kürzel für das jeweilige Paket vergeben (z.B. pd für pandas, np für numpy), um einfacher auf die jeweiligen Methoden zugreifen zu können.\n",
        "- Zugriff auf eine Methode einer Bibliothek z.B. über np.methodenname() falls Kürzel vergeben\n",
        "- über numpy.methodenname() falls kein Kürzel vergeben\n",
        "\n",
        "- Aufgabe: importieren Sie numpy, definieren Sie sich eine Variable y, lassen Sie sich den Sinus Hyperbolicus dieser Variable ausgeben"
      ]
    },
    {
      "cell_type": "code",
      "metadata": {
        "id": "HEKFCN6sm1Wq",
        "colab": {
          "base_uri": "https://localhost:8080/"
        },
        "outputId": "f44ab41c-84fa-415a-d2b2-416b3fef768b"
      },
      "source": [
        "import numpy as np\n",
        "\n",
        "y = 100\n",
        "\n",
        "print(np.sinc(y))\n"
      ],
      "execution_count": null,
      "outputs": [
        {
          "output_type": "stream",
          "name": "stdout",
          "text": [
            "6.2528371445095934e-18\n"
          ]
        }
      ]
    }
  ]
}